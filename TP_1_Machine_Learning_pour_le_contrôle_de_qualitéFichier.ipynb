{
  "nbformat": 4,
  "nbformat_minor": 0,
  "metadata": {
    "colab": {
      "provenance": [],
      "authorship_tag": "ABX9TyPNb3CAumx6pQVTeZIs6M3+",
      "include_colab_link": true
    },
    "kernelspec": {
      "name": "python3",
      "display_name": "Python 3"
    },
    "language_info": {
      "name": "python"
    }
  },
  "cells": [
    {
      "cell_type": "markdown",
      "metadata": {
        "id": "view-in-github",
        "colab_type": "text"
      },
      "source": [
        "<a href=\"https://colab.research.google.com/github/bzSafae/portfolio/blob/main/TP_1_Machine_Learning_pour_le_contr%C3%B4le_de_qualit%C3%A9Fichier.ipynb\" target=\"_parent\"><img src=\"https://colab.research.google.com/assets/colab-badge.svg\" alt=\"Open In Colab\"/></a>"
      ]
    },
    {
      "cell_type": "code",
      "execution_count": 2,
      "metadata": {
        "id": "ojwvCAs7iU01"
      },
      "outputs": [],
      "source": [
        "import pandas as pd\n",
        "\n",
        "# Charger les données\n",
        "file_path = \"/content/uci-secom.csv\"\n",
        "df = pd.read_csv(file_path)\n",
        "\n",
        "\n"
      ]
    },
    {
      "cell_type": "code",
      "source": [
        "import pandas as pd\n",
        "\n",
        "# Charger les données\n",
        "file_path = \"/content/uci-secom.csv\"\n",
        "df = pd.read_csv(file_path)\n",
        "\n",
        "# 1. Afficher les dimensions du dataframe\n",
        "print(\"Dimensions du dataframe:\", df.shape)\n",
        "\n",
        "# 2. Afficher les 10 premières lignes\n",
        "print(\"\\nPremières lignes du dataframe:\")\n",
        "print(df.head(10))\n",
        "\n",
        "# 3. Utiliser la méthode info() pour afficher les détails des colonnes\n",
        "print(\"\\nInformations sur le dataframe:\")\n",
        "print(df.info())\n",
        "\n",
        "# 4. Utiliser la méthode describe() pour afficher les statistiques\n",
        "print(\"\\nStatistiques descriptives du dataframe:\")\n",
        "print(df.describe())\n",
        "\n"
      ],
      "metadata": {
        "colab": {
          "base_uri": "https://localhost:8080/"
        },
        "id": "oXg_yepmk0ZA",
        "outputId": "b0e0b871-56ea-4b10-fe49-fc67cc732cfa"
      },
      "execution_count": 4,
      "outputs": [
        {
          "output_type": "stream",
          "name": "stdout",
          "text": [
            "Dimensions du dataframe: (1567, 593)\n",
            "\n",
            "Premières lignes du dataframe:\n",
            "                  Time        0        1          2          3       4      5  \\\n",
            "0  2008-07-19 11:55:00  3030.93  2564.00  2187.7333  1411.1265  1.3602  100.0   \n",
            "1  2008-07-19 12:32:00  3095.78  2465.14  2230.4222  1463.6606  0.8294  100.0   \n",
            "2  2008-07-19 13:17:00  2932.61  2559.94  2186.4111  1698.0172  1.5102  100.0   \n",
            "3  2008-07-19 14:43:00  2988.72  2479.90  2199.0333   909.7926  1.3204  100.0   \n",
            "4  2008-07-19 15:22:00  3032.24  2502.87  2233.3667  1326.5200  1.5334  100.0   \n",
            "5  2008-07-19 17:53:00  2946.25  2432.84  2233.3667  1326.5200  1.5334  100.0   \n",
            "6  2008-07-19 19:44:00  3030.27  2430.12  2230.4222  1463.6606  0.8294  100.0   \n",
            "7  2008-07-19 19:45:00  3058.88  2690.15  2248.9000  1004.4692  0.7884  100.0   \n",
            "8  2008-07-19 20:24:00  2967.68  2600.47  2248.9000  1004.4692  0.7884  100.0   \n",
            "9  2008-07-19 21:35:00  3016.11  2428.37  2248.9000  1004.4692  0.7884  100.0   \n",
            "\n",
            "          6       7       8  ...     582     583     584      585     586  \\\n",
            "0   97.6133  0.1242  1.5005  ...  0.5005  0.0118  0.0035   2.3630     NaN   \n",
            "1  102.3433  0.1247  1.4966  ...  0.5019  0.0223  0.0055   4.4447  0.0096   \n",
            "2   95.4878  0.1241  1.4436  ...  0.4958  0.0157  0.0039   3.1745  0.0584   \n",
            "3  104.2367  0.1217  1.4882  ...  0.4990  0.0103  0.0025   2.0544  0.0202   \n",
            "4  100.3967  0.1235  1.5031  ...  0.4800  0.4766  0.1045  99.3032  0.0202   \n",
            "5  100.3967  0.1235  1.5287  ...  0.4949  0.0189  0.0044   3.8276  0.0342   \n",
            "6  102.3433  0.1247  1.5816  ...  0.5010  0.0143  0.0042   2.8515  0.0342   \n",
            "7  106.2400  0.1185  1.5153  ...  0.4984  0.0106  0.0034   2.1261  0.0204   \n",
            "8  106.2400  0.1185  1.5358  ...  0.4993  0.0172  0.0046   3.4456  0.0111   \n",
            "9  106.2400  0.1185  1.5381  ...  0.4967  0.0152  0.0038   3.0687  0.0212   \n",
            "\n",
            "      587     588       589                    Phase  Pass/Fail  \n",
            "0     NaN     NaN       NaN                  Gravure         -1  \n",
            "1  0.0201  0.0060  208.2045             Lithographie         -1  \n",
            "2  0.0484  0.0148   82.8602            Métallisation          1  \n",
            "3  0.0149  0.0044   73.8432          Test électrique         -1  \n",
            "4  0.0149  0.0044   73.8432     Implantation ionique         -1  \n",
            "5  0.0151  0.0052   44.0077                  Gravure         -1  \n",
            "6  0.0151  0.0052   44.0077  Dépôt de couches minces         -1  \n",
            "7  0.0194  0.0063   95.0310                  Gravure         -1  \n",
            "8  0.0124  0.0045  111.6525          Test électrique         -1  \n",
            "9  0.0191  0.0073   90.2294     Implantation ionique         -1  \n",
            "\n",
            "[10 rows x 593 columns]\n",
            "\n",
            "Informations sur le dataframe:\n",
            "<class 'pandas.core.frame.DataFrame'>\n",
            "RangeIndex: 1567 entries, 0 to 1566\n",
            "Columns: 593 entries, Time to Pass/Fail\n",
            "dtypes: float64(590), int64(1), object(2)\n",
            "memory usage: 7.1+ MB\n",
            "None\n",
            "\n",
            "Statistiques descriptives du dataframe:\n",
            "                 0            1            2            3            4  \\\n",
            "count  1561.000000  1560.000000  1553.000000  1553.000000  1553.000000   \n",
            "mean   3014.452896  2495.850231  2200.547318  1396.376627     4.197013   \n",
            "std      73.621787    80.407705    29.513152   441.691640    56.355540   \n",
            "min    2743.240000  2158.750000  2060.660000     0.000000     0.681500   \n",
            "25%    2966.260000  2452.247500  2181.044400  1081.875800     1.017700   \n",
            "50%    3011.490000  2499.405000  2201.066700  1285.214400     1.316800   \n",
            "75%    3056.650000  2538.822500  2218.055500  1591.223500     1.525700   \n",
            "max    3356.350000  2846.440000  2315.266700  3715.041700  1114.536600   \n",
            "\n",
            "            5            6            7            8            9  ...  \\\n",
            "count  1553.0  1553.000000  1558.000000  1565.000000  1565.000000  ...   \n",
            "mean    100.0   101.112908     0.121822     1.462862    -0.000841  ...   \n",
            "std       0.0     6.237214     0.008961     0.073897     0.015116  ...   \n",
            "min     100.0    82.131100     0.000000     1.191000    -0.053400  ...   \n",
            "25%     100.0    97.920000     0.121100     1.411200    -0.010800  ...   \n",
            "50%     100.0   101.512200     0.122400     1.461600    -0.001300  ...   \n",
            "75%     100.0   104.586700     0.123800     1.516900     0.008400  ...   \n",
            "max     100.0   129.252200     0.128600     1.656400     0.074900  ...   \n",
            "\n",
            "              581          582          583          584          585  \\\n",
            "count  618.000000  1566.000000  1566.000000  1566.000000  1566.000000   \n",
            "mean    97.934373     0.500096     0.015318     0.003847     3.067826   \n",
            "std     87.520966     0.003404     0.017180     0.003720     3.578033   \n",
            "min      0.000000     0.477800     0.006000     0.001700     1.197500   \n",
            "25%     46.184900     0.497900     0.011600     0.003100     2.306500   \n",
            "50%     72.288900     0.500200     0.013800     0.003600     2.757650   \n",
            "75%    116.539150     0.502375     0.016500     0.004100     3.295175   \n",
            "max    737.304800     0.509800     0.476600     0.104500    99.303200   \n",
            "\n",
            "               586          587          588          589    Pass/Fail  \n",
            "count  1566.000000  1566.000000  1566.000000  1566.000000  1567.000000  \n",
            "mean      0.021458     0.016475     0.005283    99.670066    -0.867262  \n",
            "std       0.012358     0.008808     0.002867    93.891919     0.498010  \n",
            "min      -0.016900     0.003200     0.001000     0.000000    -1.000000  \n",
            "25%       0.013425     0.010600     0.003300    44.368600    -1.000000  \n",
            "50%       0.020500     0.014800     0.004600    71.900500    -1.000000  \n",
            "75%       0.027600     0.020300     0.006400   114.749700    -1.000000  \n",
            "max       0.102800     0.079900     0.028600   737.304800     1.000000  \n",
            "\n",
            "[8 rows x 591 columns]\n",
            "\n",
            "Types des données des colonnes:\n",
            "Time          object\n",
            "0            float64\n",
            "1            float64\n",
            "2            float64\n",
            "3            float64\n",
            "              ...   \n",
            "587          float64\n",
            "588          float64\n",
            "589          float64\n",
            "Phase         object\n",
            "Pass/Fail      int64\n",
            "Length: 593, dtype: object\n"
          ]
        }
      ]
    },
    {
      "cell_type": "code",
      "source": [
        "#Partie 2 Analyse des donnée :\n",
        "\n",
        "# 1. Vérifier les types de données des colonnes\n",
        "print(\"\\nTypes des données des colonnes:\")\n",
        "print(df.dtypes)"
      ],
      "metadata": {
        "colab": {
          "base_uri": "https://localhost:8080/"
        },
        "id": "HGLBI-h6l_NH",
        "outputId": "cabe3a3d-ec2b-41c5-bdee-b679d3d148c4"
      },
      "execution_count": 10,
      "outputs": [
        {
          "output_type": "stream",
          "name": "stdout",
          "text": [
            "\n",
            "Types des données des colonnes:\n",
            "Time          object\n",
            "0            float64\n",
            "1            float64\n",
            "2            float64\n",
            "3            float64\n",
            "              ...   \n",
            "587          float64\n",
            "588          float64\n",
            "589          float64\n",
            "Phase         object\n",
            "Pass/Fail      int64\n",
            "Length: 593, dtype: object\n"
          ]
        }
      ]
    },
    {
      "cell_type": "code",
      "source": [
        "# Détection des valeurs manquantes\n",
        "print(\"=\"*40)\n",
        "print(\" Détection des valeurs manquantes \")\n",
        "print(\"=\"*40)\n",
        "\n",
        "missing_values = df.isnull().sum()\n",
        "missing_columns = missing_values[missing_values > 0]\n",
        "\n",
        "print(f\"Nombre total de colonnes avec des valeurs manquantes: {len(missing_columns)}\")\n",
        "print(\"\\nListe des colonnes avec valeurs manquantes et leur nombre:\")\n",
        "print(missing_columns)\n",
        "print(\"=\"*40)\n",
        "\n",
        "\n",
        "\n",
        "# Définir un seuil pour supprimer les colonnes trop incomplètes (ex: 50% de valeurs manquantes)\n",
        "missing_threshold = 0.3\n",
        "missing_ratio = df.isnull().sum() / len(df)\n",
        "\n",
        "# Colonnes à supprimer\n",
        "columns_to_drop = missing_ratio[missing_ratio > missing_threshold].index\n",
        "df_cleaned = df.drop(columns=columns_to_drop)\n",
        "\n",
        "print(\"=\"*40)\n",
        "print(\" Suppression des colonnes avec plus de 50% de valeurs manquantes \")\n",
        "print(\"=\"*40)\n",
        "print(f\"Nombre de colonnes supprimées: {len(columns_to_drop)}\")\n",
        "print(f\"Nouvelle taille du dataframe: {df_cleaned.shape}\")\n",
        "print(\"=\"*40)\n",
        "\n",
        "\n"
      ],
      "metadata": {
        "colab": {
          "base_uri": "https://localhost:8080/"
        },
        "id": "g10p7q9xmajx",
        "outputId": "34856a97-6b91-4bbe-b493-237b8f125475"
      },
      "execution_count": 16,
      "outputs": [
        {
          "output_type": "stream",
          "name": "stdout",
          "text": [
            "========================================\n",
            " Détection des valeurs manquantes \n",
            "========================================\n",
            "Nombre total de colonnes avec des valeurs manquantes: 538\n",
            "\n",
            "Liste des colonnes avec valeurs manquantes et leur nombre:\n",
            "0       6\n",
            "1       7\n",
            "2      14\n",
            "3      14\n",
            "4      14\n",
            "       ..\n",
            "585     1\n",
            "586     1\n",
            "587     1\n",
            "588     1\n",
            "589     1\n",
            "Length: 538, dtype: int64\n",
            "========================================\n",
            "========================================\n",
            " Suppression des colonnes avec plus de 50% de valeurs manquantes \n",
            "========================================\n",
            "Nombre de colonnes supprimées: 32\n",
            "Nouvelle taille du dataframe: (1567, 561)\n",
            "========================================\n"
          ]
        }
      ]
    },
    {
      "cell_type": "code",
      "source": [
        "\n",
        "# Définir le chemin du fichier de sortie\n",
        "output_file = \"/content/secom_cleaned.csv\"\n",
        "\n",
        "# Sauvegarder le dataframe nettoyé\n",
        "df_cleaned.to_csv(output_file, index=False)\n",
        "\n",
        "print(\"=\"*40)\n",
        "print(f\" Fichier enregistré sous : {output_file} \")\n",
        "print(\"=\"*40)\n",
        "\n"
      ],
      "metadata": {
        "colab": {
          "base_uri": "https://localhost:8080/"
        },
        "id": "cPQ2e1QApPpF",
        "outputId": "acd3f156-54e5-45cc-c1c9-52f29afcc995"
      },
      "execution_count": 22,
      "outputs": [
        {
          "output_type": "stream",
          "name": "stdout",
          "text": [
            "========================================\n",
            " Fichier enregistré sous : /content/secom_cleaned.csv \n",
            "========================================\n"
          ]
        }
      ]
    },
    {
      "cell_type": "code",
      "source": [
        "# Définir le seuil de répétition (30%)\n",
        "threshold = 0.3 * len(df_cleaned)\n",
        "\n",
        "# Identifier les colonnes à supprimer\n",
        "columns_to_drop = [col for col in df_cleaned.columns if df_cleaned[col].value_counts().iloc[0] > threshold]\n",
        "\n",
        "# Taille avant suppression\n",
        "print(\"=\"*40)\n",
        "print(f\" Taille avant suppression des colonnes constantes: {df_cleaned.shape} \")\n",
        "print(\"=\"*40)\n",
        "\n",
        "# Suppression des colonnes\n",
        "df_cleaned = df_cleaned.drop(columns=columns_to_drop)\n",
        "\n",
        "\n",
        "\n",
        "# Sauvegarder le dataframe mis à jour\n",
        "output_file = \"/content/secom_optimized.csv\"\n",
        "df_cleaned.to_csv(output_file, index=False)\n",
        "\n",
        "print(\"=\"*40)\n",
        "print(f\" Fichier final enregistré sous : {output_file} \")\n",
        "print(\"=\"*40)\n"
      ],
      "metadata": {
        "colab": {
          "base_uri": "https://localhost:8080/"
        },
        "id": "EDH0aGIosLXz",
        "outputId": "78c2c7f0-e474-4af0-e823-78e605ad60dd"
      },
      "execution_count": 25,
      "outputs": [
        {
          "output_type": "stream",
          "name": "stdout",
          "text": [
            "========================================\n",
            " Taille avant suppression des colonnes constantes: (1567, 419) \n",
            "========================================\n",
            "========================================\n",
            " Fichier final enregistré sous : /content/secom_optimized.csv \n",
            "========================================\n"
          ]
        }
      ]
    }
  ]
}