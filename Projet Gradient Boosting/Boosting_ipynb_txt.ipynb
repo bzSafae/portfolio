{
  "cells": [
    {
      "cell_type": "markdown",
      "metadata": {
        "id": "AhXSebbOvQvn"
      },
      "source": [
        "<center><img src = \"https://littleml.files.wordpress.com/2017/03/pizarra-boosted_trees.png\" alt = \"Boosted trees\"/></center>\n",
        "\n",
        "\n",
        "\n",
        "For this lab we are about to work on the famous [Boston data set](https://scikit-learn.org/0.19/modules/generated/sklearn.datasets.load_boston.html). Make sure you get familiarized with it before starting!\n",
        "\n",
        "As usual, it is good practice to split your data set into training and test sets. (no validation set here to simplify)."
      ]
    },
    {
      "cell_type": "code",
      "execution_count": null,
      "metadata": {
        "scrolled": true,
        "id": "tWdWMosDvQvq"
      },
      "outputs": [],
      "source": [
        "## insert code"
      ]
    },
    {
      "cell_type": "markdown",
      "metadata": {
        "id": "JZIUBGdjvQvr"
      },
      "source": [
        "## 1. Gradient Boosting  with scikit-learn"
      ]
    },
    {
      "cell_type": "code",
      "source": [
        "pip install --upgrade scikit-learn"
      ],
      "metadata": {
        "colab": {
          "base_uri": "https://localhost:8080/"
        },
        "id": "sh0839mzxsi7",
        "outputId": "e3e1ef49-3342-452e-b3d5-971a12631e41"
      },
      "execution_count": null,
      "outputs": [
        {
          "output_type": "stream",
          "name": "stdout",
          "text": [
            "Requirement already satisfied: scikit-learn in /usr/local/lib/python3.10/dist-packages (1.5.2)\n",
            "Requirement already satisfied: numpy>=1.19.5 in /usr/local/lib/python3.10/dist-packages (from scikit-learn) (1.26.4)\n",
            "Requirement already satisfied: scipy>=1.6.0 in /usr/local/lib/python3.10/dist-packages (from scikit-learn) (1.13.1)\n",
            "Requirement already satisfied: joblib>=1.2.0 in /usr/local/lib/python3.10/dist-packages (from scikit-learn) (1.4.2)\n",
            "Requirement already satisfied: threadpoolctl>=3.1.0 in /usr/local/lib/python3.10/dist-packages (from scikit-learn) (3.5.0)\n"
          ]
        }
      ]
    },
    {
      "cell_type": "markdown",
      "metadata": {
        "id": "DNCWddpSvQvs"
      },
      "source": [
        "Let's try to fit a gradient boosting regressor model whose weak regressors are regression trees.\n",
        "\n",
        "> Fit a gradient boosting regressor on the Boston data set. Be sure to make sense of each argument of the [GradientBoostingRegressor](https://scikit-learn.org/stable/modules/generated/sklearn.ensemble.GradientBoostingRegressor.html) function."
      ]
    },
    {
      "cell_type": "code",
      "source": [
        "from sklearn.datasets import fetch_openml\n",
        "Boston = fetch_openml(data_id=531)"
      ],
      "metadata": {
        "id": "u8JAhYwA0I8N"
      },
      "execution_count": null,
      "outputs": []
    },
    {
      "cell_type": "code",
      "execution_count": null,
      "metadata": {
        "colab": {
          "base_uri": "https://localhost:8080/"
        },
        "id": "xxDCrMLUvQvs",
        "outputId": "c69b7996-6bd0-4910-8a90-5ec8f06a0a20"
      },
      "outputs": [
        {
          "output_type": "stream",
          "name": "stdout",
          "text": [
            "Mean Squared Error: 5.843571854388853\n"
          ]
        }
      ],
      "source": [
        "from sklearn.model_selection import train_test_split\n",
        "from sklearn.ensemble import GradientBoostingRegressor\n",
        "from sklearn.metrics import mean_squared_error\n",
        "\n",
        "# Load the Boston dataset\n",
        "Boston = fetch_openml(data_id=531)\n",
        "X, y = Boston.data, Boston.target\n",
        "\n",
        "# Split the data into training and testing sets\n",
        "X_train, X_test, y_train, y_test = train_test_split(X, y, test_size=0.2, random_state=42)\n",
        "\n",
        "# Create a Gradient Boosting Regressor model\n",
        "# n_estimators: The number of boosting stages to perform. Gradient boosting is fairly robust to over-fitting so a large number usually results in better performance.\n",
        "# learning_rate: Shrinks the contribution of each tree by learning_rate. There is a trade-off between learning_rate and n_estimators.\n",
        "# max_depth: The maximum depth of the individual regression estimators. The maximum depth limits the number of nodes in the tree. Tune this parameter for best performance; the best value depends on the interaction of the input variables.\n",
        "model = GradientBoostingRegressor(n_estimators=200, learning_rate=0.1, max_depth=3,subsample=0.9, random_state=0)\n",
        "\n",
        "# Fit the model to the training data\n",
        "model.fit(X_train, y_train)\n",
        "\n",
        "# Make predictions on the test data\n",
        "y_pred = model.predict(X_test)\n",
        "\n",
        "# Evaluate the model's performance\n",
        "mse = mean_squared_error(y_test, y_pred)\n",
        "print(\"Mean Squared Error:\", mse)"
      ]
    },
    {
      "cell_type": "markdown",
      "metadata": {
        "id": "epcHzq3fvQvs"
      },
      "source": [
        "> Give description of each parameter here.\n",
        "\n",
        "+**n_estimators** = 200 :n_estimators correspond au nombre d'étapes de boosting (ou d'arbres de décision) que le modèle va exécuter. Chaque arbre est entraîné pour corriger les erreurs des arbres précédents.\n",
        "+**learning_rate** est un paramètre clé . Il réduit la contribution de chaque arbre dans le modèle final.Un petit learning_rate (comme 0.1 ici) fait que chaque arbre corrige les erreurs de façon plus prudente, nécessitant ainsi plus d'étapes pour obtenir une bonne performance, mais avec un risque réduit de surapprentissage.\n",
        "\n",
        "+**max_depth = 3** : max_depth limite la profondeur des arbres de décision individuels. Plus la profondeur est grande, plus les arbres peuvent modéliser des relations complexes. Cependant, des arbres trop profonds peuvent aussi capturer du bruit, entraînant un surapprentissage.\n",
        "+**random_state = 42** :Ce paramètre fixe la graine du générateur aléatoire pour que les résultats soient reproductibles. Fixer le random_state est une bonne pratique, car cela permet de reproduire exactement les mêmes résultats à chaque exécution.\n",
        "\n",
        "+Le paramètre **subsample** contrôle la proportion des données utilisées pour entraîner chaque arbre. Un subsample inférieur à 1 (par exemple, 0.9) introduit de l'aléatoire, ce qui aide à réduire le surapprentissage en rendant le modèle moins dépendant des données d'entraînement, améliorant ainsi la généralisation.\n",
        "\n",
        "..."
      ]
    },
    {
      "cell_type": "markdown",
      "metadata": {
        "id": "qI7A9w1VvQvt"
      },
      "source": [
        "> Compute the mean squared error on the test test and the [coefficient of determination](https://scikit-learn.org/stable/modules/model_evaluation.html#r2-score-the-coefficient-of-determination) for the fitted model on the test dataset."
      ]
    },
    {
      "cell_type": "code",
      "execution_count": null,
      "metadata": {
        "colab": {
          "base_uri": "https://localhost:8080/"
        },
        "id": "FnYEKryAvQvt",
        "outputId": "db31d820-8875-4507-e9f2-53294e90c00c"
      },
      "outputs": [
        {
          "output_type": "stream",
          "name": "stdout",
          "text": [
            "Coefficient of Determination (R^2): 0.9203154180439105\n"
          ]
        }
      ],
      "source": [
        "from sklearn.metrics import r2_score\n",
        "# Compute the coefficient of determination (R^2)\n",
        "r2 = r2_score(y_test, y_pred)\n",
        "print(\"Coefficient of Determination (R^2):\", r2)"
      ]
    },
    {
      "cell_type": "markdown",
      "metadata": {
        "id": "b3qrbGeOvQvt"
      },
      "source": [
        "> Some questions for you:\n",
        "+ What does represent the number of iterations?\n",
        "+ How the CPU load varies with the number of weak learners?\n",
        "+ What are the impact of having a small/large learning rate?\n",
        "\n",
        "\n",
        "Briefly, it is good practice to start with a (rather) large learning rate with a limited number of weak learners to fine tune hyperparameters and, next, decrease it (with eventually a larger number of weak learners)"
      ]
    },
    {
      "cell_type": "markdown",
      "metadata": {
        "id": "M5xZ-J7jvQvu"
      },
      "source": [
        "> Plot the evolution of the loss  for both the training and test sets as the number of weak learners increases. Comment."
      ]
    },
    {
      "cell_type": "markdown",
      "source": [
        "+ **Le nombre d'itérations** correspond au nombre d'arbres générés dans le processus de boosting. Chaque itération ajoute un arbre qui corrige les erreurs des prédictions des arbres précédents, améliorant progressivement la performance du modèle.\n",
        "+ **Lorsque le nombre d'apprenants faibles (arbres) augmente, la charge du CPU augmente proportionnellement**, car chaque arbre nécessite des ressources pour être construit et évalué. Un grand nombre d'arbres prolongera le temps de calcul et la charge du CPU.\n",
        "+ **Un petit taux d'apprentissage** rend le modèle plus lent à apprendre, mais il nécessite plus d'arbres pour corriger les erreurs. Cela aide à éviter le ***surajustement***. ***Un grand taux d'apprentissage ***accélère le processus, mais risque de faire des corrections trop brutales, augmentant le risque de surajustement avec moins d'arbres.\n",
        "+ **Oui**, commencer avec un taux d'apprentissage élevé et un petit nombre d'arbres permet de tester rapidement les performances. Ensuite, réduire le taux d'apprentissage et augmenter le nombre d'arbres permet d'affiner et d'améliorer la précision du modèle tout en minimisant le surajustement."
      ],
      "metadata": {
        "id": "UQP_6V419isS"
      }
    },
    {
      "cell_type": "code",
      "execution_count": null,
      "metadata": {
        "colab": {
          "base_uri": "https://localhost:8080/",
          "height": 472
        },
        "id": "znGocK8UvQvu",
        "outputId": "f6470966-ff0b-41ab-8ba7-d608870c40e1"
      },
      "outputs": [
        {
          "output_type": "display_data",
          "data": {
            "text/plain": [
              "<Figure size 640x480 with 1 Axes>"
            ],
            "image/png": "[encoded data removed]"
          },
          "metadata": {}
        }
      ],
      "source": [
        "import matplotlib.pyplot as plt\n",
        "# Get the training and test set errors for each stage\n",
        "train_scores = model.train_score_\n",
        "test_scores = [model.score(X_test, y_test) for _ in range(model.n_estimators)]\n",
        "\n",
        "# Plot the training and test error curves\n",
        "plt.plot(train_scores, label='Training Error')\n",
        "plt.plot(test_scores, label='Test Error')\n",
        "plt.xlabel('Number of Weak Learners')\n",
        "plt.ylabel('R^2 Score')\n",
        "plt.title('Evolution of Loss')\n",
        "plt.legend()\n",
        "plt.show()\n",
        "\n",
        "\n",
        "\n",
        "# The plot helps identify the optimal number of weak learners where the test error is minimized and overfitting is avoided."
      ]
    },
    {
      "cell_type": "markdown",
      "metadata": {
        "id": "mSKKwTBWvQvu"
      },
      "source": [
        "> Should we use early stopping? If not, explain why? If yes, what is the purpose of doing so?"
      ]
    },
    {
      "cell_type": "markdown",
      "source": [
        "From the plot, the test error stabilizes quickly, even though the training error continues to improve. This suggests that the model starts overfitting after a certain number of weak learners, as adding more learners only improves training performance without benefiting test performance.\n",
        "By using early stopping, you can stop the model training as soon as test error stops decreasing, which ensures that you’re not overfitting and makes your model more efficient by avoiding unnecessary computations."
      ],
      "metadata": {
        "id": "jIyzJQ4bAxzR"
      }
    },
    {
      "cell_type": "markdown",
      "source": [],
      "metadata": {
        "id": "WIzsAteqBVyw"
      }
    },
    {
      "cell_type": "markdown",
      "metadata": {
        "id": "uZz4O7oDvQvu"
      },
      "source": [
        "Give answer."
      ]
    },
    {
      "cell_type": "markdown",
      "metadata": {
        "id": "VQqDxG5BvQvu"
      },
      "source": [
        "> Plot the evolution of the mean squared error  with different learning rates. Comment."
      ]
    },
    {
      "cell_type": "code",
      "execution_count": null,
      "metadata": {
        "colab": {
          "base_uri": "https://localhost:8080/",
          "height": 472
        },
        "id": "thWZPQj1vQvv",
        "outputId": "25b7a086-ed49-43f8-8b4b-68d3e577739f"
      },
      "outputs": [
        {
          "output_type": "display_data",
          "data": {
            "text/plain": [
              "<Figure size 640x480 with 1 Axes>"
            ],
            "image/png": "[encoded data removed]"
          },
          "metadata": {}
        }
      ],
      "source": [
        "learning_rates = [0.01, 0.1, 0.2, 0.3]\n",
        "mse_values = []\n",
        "\n",
        "for learning_rate in learning_rates:\n",
        "    model = GradientBoostingRegressor(n_estimators=200, learning_rate=learning_rate, max_depth=3, random_state=0)\n",
        "    model.fit(X_train, y_train)\n",
        "    y_pred = model.predict(X_test)\n",
        "    mse = mean_squared_error(y_test, y_pred)\n",
        "    mse_values.append(mse)\n",
        "\n",
        "plt.plot(learning_rates, mse_values, marker='o')\n",
        "plt.xlabel('Learning Rate')\n",
        "plt.ylabel('Mean Squared Error')\n",
        "plt.title('Evolution of MSE with Different Learning Rates')\n",
        "plt.grid(True)\n",
        "plt.show()\n",
        "\n"
      ]
    },
    {
      "cell_type": "markdown",
      "source": [
        "Le graphique montre que pour un **faible taux d'apprentissage** (0.01), l'erreur quadratique moyenne (MSE) est** élevée**, ce qui indique un sous-ajustement. Pour **un taux d'apprentissage autour de 0.1 à 0.2**, **l'erreur est minimale**, ce qui montre que le modèle apprend de manière optimale. Un taux d'apprentissage trop élevé (comme 0.3) augmente légèrement l'erreur, suggérant une instabilité dans l'apprentissage. Il semble donc que le taux d'apprentissage idéal soit entre 0.1 et 0.2. Au-delà, le modèle risque de mal généraliser ou de surajuster\n"
      ],
      "metadata": {
        "id": "BxPh6U2kCcm4"
      }
    },
    {
      "cell_type": "markdown",
      "metadata": {
        "id": "h7zgayM0vQvv"
      },
      "source": [
        "An important stage in machine learning is to fine tune your model.\n",
        "\n",
        "> Keeping as fixed `n_estimators=1000` and `learning_rate=0.05`, perform a [GridSearch](https://scikit-learn.org/stable/modules/generated/sklearn.model_selection.GridSearchCV.html) to set the `max_depth` and `min_samples_split` arguments. To do so, use cross validation on the training set (with 5 folds)."
      ]
    },
    {
      "cell_type": "code",
      "execution_count": null,
      "metadata": {
        "colab": {
          "base_uri": "https://localhost:8080/"
        },
        "id": "mEBMsD1AvQvv",
        "outputId": "5275d8a5-af74-443b-d02c-8bf85ba20691"
      },
      "outputs": [
        {
          "output_type": "execute_result",
          "data": {
            "text/plain": [
              "2"
            ]
          },
          "metadata": {},
          "execution_count": 7
        }
      ],
      "source": [
        "## Use the following possible setting for the two hyper-parameters\n",
        "max_depth_values = [2,4,6,8]\n",
        "min_samples_split_values = [2,3,4]\n",
        "\n",
        "## If you want to use parallelization to speed computations\n",
        "import multiprocessing\n",
        "multiprocessing.cpu_count()"
      ]
    },
    {
      "cell_type": "code",
      "execution_count": null,
      "metadata": {
        "colab": {
          "base_uri": "https://localhost:8080/"
        },
        "id": "vczjaAMivQvw",
        "outputId": "f365127b-0667-432b-f2a8-078f314ff8d4"
      },
      "outputs": [
        {
          "output_type": "stream",
          "name": "stdout",
          "text": [
            "Best parameters: {'max_depth': 2, 'min_samples_split': 3}\n",
            "Best score: 0.8476797025784931\n"
          ]
        }
      ],
      "source": [
        "from sklearn.model_selection import GridSearchCV\n",
        "\n",
        "# Define the parameter grid\n",
        "param_grid = {\n",
        "    'max_depth': [2, 4, 6, 8],\n",
        "    'min_samples_split': [2, 3, 4]\n",
        "}\n",
        "\n",
        "# Create a Gradient Boosting Regressor model with fixed n_estimators and learning_rate\n",
        "model = GradientBoostingRegressor(n_estimators=1000, learning_rate=0.05, random_state=0)\n",
        "\n",
        "# Create a GridSearchCV object\n",
        "grid_search = GridSearchCV(estimator=model, param_grid=param_grid, cv=5, n_jobs=-1)\n",
        "\n",
        "# Fit the GridSearchCV object to the training data\n",
        "grid_search.fit(X_train, y_train)\n",
        "\n",
        "# Print the best parameters and the corresponding score\n",
        "print(\"Best parameters:\", grid_search.best_params_)\n",
        "print(\"Best score:\", grid_search.best_score_)"
      ]
    },
    {
      "cell_type": "markdown",
      "metadata": {
        "id": "ZHGtpx3_vQvw"
      },
      "source": [
        "> Once the above hyper-parameters fine tuned, reduce the learning rate and increase the number of weak learners to see if you can get better performances. (another grid search may be convenient)"
      ]
    },
    {
      "cell_type": "code",
      "execution_count": null,
      "metadata": {
        "colab": {
          "base_uri": "https://localhost:8080/"
        },
        "id": "9yjcwErEvQvw",
        "outputId": "2f11b8f3-f2f6-459c-eff8-07e616cc70e6"
      },
      "outputs": [
        {
          "output_type": "stream",
          "name": "stdout",
          "text": [
            "Best parameters (second grid search): {'learning_rate': 0.01, 'n_estimators': 2000}\n",
            "Best score (second grid search): 0.8453773423228913\n",
            "Mean Squared Error (best model): 10.720604915218708\n",
            "Coefficient of Determination (R^2) (best model): 0.8538108296993048\n"
          ]
        }
      ],
      "source": [
        "param_grid_2 = {\n",
        "    'n_estimators': [1500, 2000],\n",
        "    'learning_rate': [0.01, 0.02]\n",
        "}\n",
        "\n",
        "# Create a Gradient Boosting Regressor model with the best hyperparameters from the previous grid search\n",
        "best_max_depth = grid_search.best_params_['max_depth']\n",
        "best_min_samples_split = grid_search.best_params_['min_samples_split']\n",
        "model_2 = GradientBoostingRegressor(max_depth=best_max_depth, min_samples_split=best_min_samples_split, random_state=0)\n",
        "\n",
        "\n",
        "# Create a GridSearchCV object for the second grid search\n",
        "grid_search_2 = GridSearchCV(estimator=model_2, param_grid=param_grid_2, cv=5, n_jobs=-1)\n",
        "\n",
        "# Fit the GridSearchCV object to the training data\n",
        "grid_search_2.fit(X_train, y_train)\n",
        "\n",
        "# Print the best parameters and the corresponding score for the second grid search\n",
        "print(\"Best parameters (second grid search):\", grid_search_2.best_params_)\n",
        "print(\"Best score (second grid search):\", grid_search_2.best_score_)\n",
        "\n",
        "# Train the model with the best hyperparameters from the second grid search\n",
        "best_model = GradientBoostingRegressor(max_depth=best_max_depth, min_samples_split=best_min_samples_split,\n",
        "                                       n_estimators=grid_search_2.best_params_['n_estimators'],\n",
        "                                       learning_rate=grid_search_2.best_params_['learning_rate'], random_state=0)\n",
        "best_model.fit(X_train, y_train)\n",
        "\n",
        "# Make predictions on the test data using the best model\n",
        "y_pred_best = best_model.predict(X_test)\n",
        "\n",
        "# Evaluate the best model's performance\n",
        "mse_best = mean_squared_error(y_test, y_pred_best)\n",
        "r2_best = r2_score(y_test, y_pred_best)\n",
        "\n",
        "print(\"Mean Squared Error (best model):\", mse_best)\n",
        "print(\"Coefficient of Determination (R^2) (best model):\", r2_best)"
      ]
    },
    {
      "cell_type": "markdown",
      "metadata": {
        "id": "BbuGgu8ovQvw"
      },
      "source": [
        "> Compute the $R^2$ and mean squared error on the test set for your best model."
      ]
    },
    {
      "cell_type": "code",
      "execution_count": null,
      "metadata": {
        "colab": {
          "base_uri": "https://localhost:8080/"
        },
        "id": "8Z4PPlRUvQvw",
        "outputId": "202e58dc-c34d-4146-e184-b1d0217882c1"
      },
      "outputs": [
        {
          "output_type": "stream",
          "name": "stdout",
          "text": [
            "Mean Squared Error (best model): 10.720604915218708\n",
            "Coefficient of Determination (R^2) (best model): 0.8538108296993048\n"
          ]
        }
      ],
      "source": [
        "# Assuming 'best_model' is your best trained model from the previous code.\n",
        "y_pred_best = best_model.predict(X_test)\n",
        "\n",
        "# Evaluate the best model's performance\n",
        "mse_best = mean_squared_error(y_test, y_pred_best)\n",
        "r2_best = r2_score(y_test, y_pred_best)\n",
        "\n",
        "print(\"Mean Squared Error (best model):\", mse_best)\n",
        "print(\"Coefficient of Determination (R^2) (best model):\", r2_best)"
      ]
    },
    {
      "cell_type": "markdown",
      "metadata": {
        "id": "F1Uiql4SvQvx"
      },
      "source": [
        "> Since we use boosting trees, it is possible to get feature importance as for random forests. It is accessible using the `feature_importances_` property. Plot importances and comment."
      ]
    },
    {
      "cell_type": "code",
      "execution_count": null,
      "metadata": {
        "colab": {
          "base_uri": "https://localhost:8080/",
          "height": 588
        },
        "id": "n5Y60GHMvQvx",
        "outputId": "ea8088f4-8507-42ff-e68f-3e92dd8f3475"
      },
      "outputs": [
        {
          "output_type": "display_data",
          "data": {
            "text/plain": [
              "<Figure size 1000x600 with 1 Axes>"
            ],
            "image/png": "[encoded data removed]"
          },
          "metadata": {}
        }
      ],
      "source": [
        "importances = best_model.feature_importances_\n",
        "\n",
        "# Sort feature importances in descending order\n",
        "indices = importances.argsort()[::-1]\n",
        "\n",
        "# Plot feature importances\n",
        "plt.figure(figsize=(10, 6))\n",
        "plt.title(\"Feature importances\")\n",
        "plt.bar(range(X.shape[1]), importances[indices],\n",
        "       color=\"r\", align=\"center\")\n",
        "plt.xticks(range(X.shape[1]), [Boston.feature_names[i] for i in indices], rotation=90)\n",
        "plt.xlim([-1, X.shape[1]])\n",
        "plt.show()\n",
        "\n",
        "# Comment on feature importances:\n",
        "# The plot shows the relative importance of each feature in the prediction of house prices.\n",
        "# Features with higher importance contribute more significantly to the model's decision-making process.\n",
        "# In this example, features like 'LSTAT' (percentage of lower status of the population),\n",
        "# 'RM' (average number of rooms per dwelling), and 'DIS' (weighted distances to five Boston employment centres)\n",
        "# appear to be among the most important.\n",
        "# These insights can help in understanding which factors are most relevant in predicting house prices\n",
        "# and can be used for feature selection, to better understand the data, and to improve model performance."
      ]
    },
    {
      "cell_type": "markdown",
      "metadata": {
        "id": "4eBDPwlwvQvx"
      },
      "source": [
        "##  2. Gradient boosting with XGboost"
      ]
    },
    {
      "cell_type": "markdown",
      "metadata": {
        "id": "hGeEqfoqvQvx"
      },
      "source": [
        "You may need to install the `xgboost` library before loading it.\n",
        "\n",
        "Although other options are possible, we are about to use Xgboost with as weak learners trees.  Xgboost parameters, especially those for the `XGBRegressor()` and `XGBClassifier()` functions, are described in this [link](http://xgboost.readthedocs.io/en/latest/python/python_api.html#module-xgboost.sklearn). Fortunately it is very similar to that of the scikit-learn library.\n",
        "\n",
        "> Fit a XGB regression model and gives its mean squared error and $R^2$ score."
      ]
    },
    {
      "cell_type": "code",
      "execution_count": null,
      "metadata": {
        "colab": {
          "base_uri": "https://localhost:8080/"
        },
        "id": "qHm1UyPPvQvy",
        "outputId": "7750a068-1fc3-4da4-fa5d-0c2d26109a3f"
      },
      "outputs": [
        {
          "output_type": "stream",
          "name": "stdout",
          "text": [
            "Requirement already satisfied: xgboost in /usr/local/lib/python3.10/dist-packages (2.1.1)\n",
            "Requirement already satisfied: numpy in /usr/local/lib/python3.10/dist-packages (from xgboost) (1.26.4)\n",
            "Requirement already satisfied: nvidia-nccl-cu12 in /usr/local/lib/python3.10/dist-packages (from xgboost) (2.23.4)\n",
            "Requirement already satisfied: scipy in /usr/local/lib/python3.10/dist-packages (from xgboost) (1.13.1)\n",
            "XGBoost Mean Squared Error: 37.74541061694765\n",
            "XGBoost R^2 Score: 0.48529301243836964\n"
          ]
        }
      ],
      "source": [
        "!pip install xgboost\n",
        "\n",
        "import xgboost as xgb\n",
        "\n",
        "# Create an XGBRegressor model\n",
        "xgb_model = xgb.XGBRegressor(objective='reg:squarederror',\n",
        "                             colsample_bytree=0.3, learning_rate=0.1,\n",
        "                             max_depth=5, alpha=10, n_estimators=10,\n",
        "                             enable_categorical=True)\n",
        "\n",
        "\n",
        "# Fit the model to the training data\n",
        "xgb_model.fit(X_train, y_train)\n",
        "\n",
        "# Make predictions on the test data\n",
        "y_pred_xgb = xgb_model.predict(X_test)\n",
        "\n",
        "# Evaluate the model's performance\n",
        "mse_xgb = mean_squared_error(y_test, y_pred_xgb)\n",
        "r2_xgb = r2_score(y_test, y_pred_xgb)\n",
        "\n",
        "print(\"XGBoost Mean Squared Error:\", mse_xgb)\n",
        "print(\"XGBoost R^2 Score:\", r2_xgb)"
      ]
    },
    {
      "cell_type": "markdown",
      "metadata": {
        "id": "qyTzC4K1vQvy"
      },
      "source": [
        "Fine tuning Xgboost stage is very similar to that for gradient boosting machine. Note that there two additional hyper-parameters to fine tune: `alpha` and `lambda` that drive regularization.\n",
        "\n",
        "> Try to fine tune your Xgboost model."
      ]
    },
    {
      "cell_type": "code",
      "execution_count": null,
      "metadata": {
        "id": "m1-WhceWvQvy",
        "colab": {
          "base_uri": "https://localhost:8080/"
        },
        "outputId": "2b49d5e7-c720-4598-debb-096075c931f7"
      },
      "outputs": [
        {
          "output_type": "stream",
          "name": "stderr",
          "text": [
            "/usr/local/lib/python3.10/dist-packages/numpy/ma/core.py:2820: RuntimeWarning: invalid value encountered in cast\n",
            "  _data = np.array(data, dtype=dtype, copy=copy,\n"
          ]
        },
        {
          "output_type": "stream",
          "name": "stdout",
          "text": [
            "Best XGBoost parameters: {'alpha': 10, 'lambda': 1, 'learning_rate': 0.1, 'max_depth': 3, 'n_estimators': 300}\n",
            "Best XGBoost score: 0.8360765264897333\n",
            "XGBoost Mean Squared Error (best model): 10.84297086559509\n",
            "XGBoost R^2 Score (best model): 0.8521422133385633\n"
          ]
        }
      ],
      "source": [
        "# Define the parameter grid for XGBoost\n",
        "param_grid_xgb = {\n",
        "    'max_depth': [3, 5, 7],\n",
        "    'learning_rate': [0.01, 0.1, 0.2],\n",
        "    'n_estimators': [100, 200, 300],\n",
        "    'alpha': [0, 1, 10],  # Regularization parameter\n",
        "    'lambda': [0, 1, 10]   # Regularization parameter\n",
        "}\n",
        "\n",
        "# Create an XGBoost model\n",
        "xgb_model = xgb.XGBRegressor(objective='reg:squarederror', colsample_bytree=0.3, enable_categorical=True)\n",
        "\n",
        "\n",
        "# Create a GridSearchCV object for XGBoost\n",
        "grid_search_xgb = GridSearchCV(estimator=xgb_model, param_grid=param_grid_xgb, cv=5, n_jobs=-1)\n",
        "\n",
        "# Fit the GridSearchCV object to the training data\n",
        "grid_search_xgb.fit(X_train, y_train)\n",
        "\n",
        "# Print the best parameters and the corresponding score\n",
        "print(\"Best XGBoost parameters:\", grid_search_xgb.best_params_)\n",
        "print(\"Best XGBoost score:\", grid_search_xgb.best_score_)\n",
        "\n",
        "# Train the best XGBoost model\n",
        "best_xgb_model = xgb.XGBRegressor(**grid_search_xgb.best_params_, objective='reg:squarederror', colsample_bytree=0.3, enable_categorical=True)\n",
        "best_xgb_model.fit(X_train, y_train)\n",
        "\n",
        "# Make predictions on the test data using the best XGBoost model\n",
        "y_pred_best_xgb = best_xgb_model.predict(X_test)\n",
        "\n",
        "# Evaluate the best XGBoost model's performance\n",
        "mse_best_xgb = mean_squared_error(y_test, y_pred_best_xgb)\n",
        "r2_best_xgb = r2_score(y_test, y_pred_best_xgb)\n",
        "\n",
        "print(\"XGBoost Mean Squared Error (best model):\", mse_best_xgb)\n",
        "print(\"XGBoost R^2 Score (best model):\", r2_best_xgb)"
      ]
    },
    {
      "cell_type": "markdown",
      "metadata": {
        "id": "0n_L-S8nvQvy"
      },
      "source": [
        "## 3. Optional: Adaboost and models comparison"
      ]
    },
    {
      "cell_type": "markdown",
      "metadata": {
        "id": "Z24fh9u4vQvy"
      },
      "source": [
        "Adaboost is implemented within scikit-learn with the [`AdaBoostClassifier()`](http://scikit-learn.org/stable/modules/generated/sklearn.ensemble.AdaBoostClassifier.html) and [`AdaBoostRegressor()`](https://scikit-learn.org/stable/modules/generated/sklearn.ensemble.AdaBoostRegressor.html) functions.\n",
        "\n",
        "> Fit an Adaboost model (with fine tuning) and compare performances between your just fitted model and that for gradient boosting machine and Xgboost."
      ]
    },
    {
      "cell_type": "code",
      "execution_count": null,
      "metadata": {
        "id": "WDSKifQwvQvy",
        "colab": {
          "base_uri": "https://localhost:8080/"
        },
        "outputId": "97d1c872-9152-4bd1-9878-be185dd13e28"
      },
      "outputs": [
        {
          "output_type": "stream",
          "name": "stdout",
          "text": [
            "AdaBoost Mean Squared Error: 9.307412307070948\n",
            "AdaBoost R^2 Score: 0.8730815197857309\n",
            "Best AdaBoost parameters: {'learning_rate': 0.5, 'n_estimators': 200}\n",
            "Best AdaBoost score: 0.7893435437602276\n",
            "AdaBoost Mean Squared Error (best model): 11.67978575492894\n",
            "AdaBoost R^2 Score (best model): 0.8407311712066663\n",
            "\n",
            "Model Comparison:\n",
            "Gradient Boosting MSE: 10.720604915218708\n",
            "Gradient Boosting R^2: 0.8538108296993048\n",
            "XGBoost MSE: 10.84297086559509\n",
            "XGBoost R^2: 0.8521422133385633\n",
            "AdaBoost MSE: 11.67978575492894\n",
            "AdaBoost R^2: 0.8407311712066663\n"
          ]
        }
      ],
      "source": [
        "from sklearn.ensemble import AdaBoostRegressor\n",
        "from sklearn.tree import DecisionTreeRegressor\n",
        "\n",
        "# Create an AdaBoostRegressor model\n",
        "ada_model = AdaBoostRegressor(\n",
        "    DecisionTreeRegressor(max_depth=3), n_estimators=100, learning_rate=0.1, random_state=0\n",
        ")\n",
        "\n",
        "# Fit the model to the training data\n",
        "ada_model.fit(X_train, y_train)\n",
        "\n",
        "# Make predictions on the test data\n",
        "y_pred_ada = ada_model.predict(X_test)\n",
        "\n",
        "# Evaluate the model's performance\n",
        "mse_ada = mean_squared_error(y_test, y_pred_ada)\n",
        "r2_ada = r2_score(y_test, y_pred_ada)\n",
        "\n",
        "print(\"AdaBoost Mean Squared Error:\", mse_ada)\n",
        "print(\"AdaBoost R^2 Score:\", r2_ada)\n",
        "\n",
        "# Fine-tuning AdaBoost\n",
        "param_grid_ada = {\n",
        "    \"n_estimators\": [50, 100, 200],\n",
        "    \"learning_rate\": [0.01, 0.1, 0.5],\n",
        "}\n",
        "\n",
        "# Create a GridSearchCV object for AdaBoost\n",
        "grid_search_ada = GridSearchCV(\n",
        "    estimator=ada_model, param_grid=param_grid_ada, cv=5, n_jobs=-1\n",
        ")\n",
        "\n",
        "# Fit the GridSearchCV object to the training data\n",
        "grid_search_ada.fit(X_train, y_train)\n",
        "\n",
        "# Print the best parameters and the corresponding score\n",
        "print(\"Best AdaBoost parameters:\", grid_search_ada.best_params_)\n",
        "print(\"Best AdaBoost score:\", grid_search_ada.best_score_)\n",
        "\n",
        "# Train the best AdaBoost model\n",
        "best_ada_model = AdaBoostRegressor(\n",
        "    DecisionTreeRegressor(max_depth=3),\n",
        "    n_estimators=grid_search_ada.best_params_[\"n_estimators\"],\n",
        "    learning_rate=grid_search_ada.best_params_[\"learning_rate\"],\n",
        "    random_state=0,\n",
        ")\n",
        "best_ada_model.fit(X_train, y_train)\n",
        "\n",
        "# Make predictions on the test data using the best AdaBoost model\n",
        "y_pred_best_ada = best_ada_model.predict(X_test)\n",
        "\n",
        "# Evaluate the best AdaBoost model's performance\n",
        "mse_best_ada = mean_squared_error(y_test, y_pred_best_ada)\n",
        "r2_best_ada = r2_score(y_test, y_pred_best_ada)\n",
        "\n",
        "print(\"AdaBoost Mean Squared Error (best model):\", mse_best_ada)\n",
        "print(\"AdaBoost R^2 Score (best model):\", r2_best_ada)\n",
        "\n",
        "# Compare performances\n",
        "print(\"\\nModel Comparison:\")\n",
        "print(\"Gradient Boosting MSE:\", mse_best)\n",
        "print(\"Gradient Boosting R^2:\", r2_best)\n",
        "print(\"XGBoost MSE:\", mse_best_xgb)\n",
        "print(\"XGBoost R^2:\", r2_best_xgb)\n",
        "print(\"AdaBoost MSE:\", mse_best_ada)\n",
        "print(\"AdaBoost R^2:\", r2_best_ada)"
      ]
    }
  ],
  "metadata": {
    "kernelspec": {
      "display_name": "Python 3 (ipykernel)",
      "language": "python",
      "name": "python3"
    },
    "language_info": {
      "codemirror_mode": {
        "name": "ipython",
        "version": 3
      },
      "file_extension": ".py",
      "mimetype": "text/x-python",
      "name": "python",
      "nbconvert_exporter": "python",
      "pygments_lexer": "ipython3",
      "version": "3.9.13"
    },
    "colab": {
      "provenance": []
    }
  },
  "nbformat": 4,
  "nbformat_minor": 0
}